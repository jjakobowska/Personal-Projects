{
 "cells": [
  {
   "cell_type": "code",
   "execution_count": null,
   "id": "5ca37da5",
   "metadata": {},
   "outputs": [],
   "source": [
    "'''\n",
    "extractive sumarization using unsupervised learning \n",
    "i use cosine similarity because of chosen approach (sentences as vectors)\n",
    "cosine similarity measures the angle between two vectors \n",
    "if the angle is 0 the sentences are similar \n",
    "\n",
    "Input article → split into sentences → remove stop words → build a similarity matrix → \n",
    "generate rank based on matrix → pick top N sentences for summary.\n",
    "\n",
    "'''"
   ]
  },
  {
   "cell_type": "code",
   "execution_count": 51,
   "id": "59e7ea03",
   "metadata": {},
   "outputs": [
    {
     "name": "stderr",
     "output_type": "stream",
     "text": [
      "[nltk_data] Downloading package stopwords to\n",
      "[nltk_data]     /Users/jolajakobowska/nltk_data...\n",
      "[nltk_data]   Package stopwords is already up-to-date!\n"
     ]
    }
   ],
   "source": [
    "import nltk\n",
    "nltk.download('stopwords')\n",
    "from nltk.corpus import stopwords\n",
    "from nltk.cluster.util import cosine_distance\n",
    "import numpy as np\n",
    "import networkx as nx"
   ]
  },
  {
   "cell_type": "code",
   "execution_count": 97,
   "id": "eb8ad2dd",
   "metadata": {},
   "outputs": [],
   "source": [
    "def prepare_article(file_name):\n",
    "    file = open(file_name, \"r\")\n",
    "    file_data = file.readlines() # full text of the article - \n",
    "    article = file_data[0].split(\". \")\n",
    "    sentences = []\n",
    "    \n",
    "    for sentence in article:\n",
    "        sentences.append(sentence.replace(\"[^a-zA-Z]\", \" \").split(\" \"))\n",
    "        \n",
    "    sentences.pop()\n",
    "    print(\"Given text: \\n\", file_data, \"\\n\")\n",
    "    return sentences \n",
    "    "
   ]
  },
  {
   "cell_type": "code",
   "execution_count": 98,
   "id": "c5e0b092",
   "metadata": {},
   "outputs": [],
   "source": [
    "#creates vectors from sentences and returns cosine distances extracted from 1 to later get the similarity \n",
    "def vectors_from_sentences(sentence_1, sentence_2, stopwords=None):\n",
    "    if stopwords is None:\n",
    "        stopwords = []\n",
    "        \n",
    "    sentence_1 = [w.lower() for w in sentence_1] #w - word\n",
    "    sentence_2 = [w.lower() for w in sentence_2]\n",
    "    \n",
    "    everything = list(set(sentence_1 + sentence_2))\n",
    "    \n",
    "    vector_1 = [0] *len(everything)\n",
    "    vector_2 = [0] *len(everything)\n",
    "    \n",
    "    #first sentence \n",
    "    for w in sentence_1:\n",
    "        if w in stopwords:\n",
    "            continue \n",
    "        vector_1[everything.index(w)] += 1 \n",
    "  \n",
    "    #second sentence\n",
    "    for w in sentence_2:\n",
    "        if w in stopwords:\n",
    "            continue \n",
    "        vector_2[everything.index(w)] += 1\n",
    "  \n",
    "    return 1 - cosine_distance(vector_1, vector_2)"
   ]
  },
  {
   "cell_type": "code",
   "execution_count": 99,
   "id": "6aa7a588",
   "metadata": {},
   "outputs": [],
   "source": [
    "#create a matrix based on cosine distance\n",
    "def do_matrix_of_similarity(sentences, stop_words):\n",
    "    similarity_matrix = np.zeros((len(sentences), len(sentences))) #get an array of zeros (empty) to compare two sentences\n",
    "    \n",
    "    for idx1 in range(len(sentences)):\n",
    "        for idx2 in range(len(sentences)):\n",
    "            if idx1 == idx2:\n",
    "                continue \n",
    "            similarity_matrix[idx1][idx2] = vectors_from_sentences(sentences[idx1],sentences[idx2])\n",
    "            \n",
    "    return similarity_matrix"
   ]
  },
  {
   "cell_type": "code",
   "execution_count": 100,
   "id": "6b78b794",
   "metadata": {},
   "outputs": [],
   "source": [
    "def give_summary(file_name, top_n=5):\n",
    "    stop_words = stopwords.words('english')\n",
    "    summarize_text = []\n",
    "    \n",
    "    #prepare the data\n",
    "    sentences = prepare_article(file_name) \n",
    "    \n",
    "    #make the matrix of vectors and return cosine distance\n",
    "    sentence_simmilarity_matrix = do_matrix_of_similarity(sentences, stop_words) \n",
    "    \n",
    "    sentence_simmilarity_graph = nx.from_numpy_array(sentence_simmilarity_matrix)\n",
    "    scores = nx.pagerank(sentence_simmilarity_graph)\n",
    "    \n",
    "    ranked_sentence = sorted(((scores[i], s) for i,s in enumerate(sentences)), reverse=True)\n",
    "    \n",
    "    for i in range(top_n):\n",
    "        summarize_text.append(\" \".join(ranked_sentence[i][1]))\n",
    "        \n",
    "    ready_summary = \". \".join(summarize_text)\n",
    "    print(\"Summarry: \\n\", ready_summary)\n"
   ]
  },
  {
   "cell_type": "code",
   "execution_count": 101,
   "id": "f73dbf6d",
   "metadata": {},
   "outputs": [
    {
     "name": "stdout",
     "output_type": "stream",
     "text": [
      "Given text: \n",
      " ['In an attempt to build an AI-ready workforce, Microsoft announced Intelligent Cloud Hub which has been launched to empower the next generation of students with AI-ready skills. Envisioned as a three-year collaborative program, Intelligent Cloud Hub will support around 100 institutions with AI infrastructure, course content and curriculum, developer support, development tools and give students access to cloud and AI services. As part of the program, the Redmond giant which wants to expand its reach and is planning to build a strong developer ecosystem in India with the program will set up the core AI infrastructure and IoT Hub for the selected campuses. The company will provide AI development tools and Azure AI services such as Microsoft Cognitive Services, Bot Services and Azure Machine Learning.According to Manish Prakash, Country General Manager-PS, Health and Education, Microsoft India, said, \"With AI being the defining technology of our time, it is transforming lives and industry and the jobs of tomorrow will require a different skillset. This will require more collaborations and training and working with AI. That’s why it has become more critical than ever for educational institutions to integrate new cloud and AI technologies. The program is an attempt to ramp up the institutional set-up and build capabilities among the educators to educate the workforce of tomorrow.\" The program aims to build up the cognitive skills and in-depth understanding of developing intelligent cloud connected solutions for applications across industry. Earlier in April this year, the company announced Microsoft Professional Program In AI as a learning track open to the public. The program was developed to provide job ready skills to programmers who wanted to hone their skills in AI and data science with a series of online courses which featured hands-on labs and expert instructors as well. This program also included developer-focused AI school that provided a bunch of assets to help build AI skills.'] \n",
      "\n",
      "Summarry: \n",
      " As part of the program, the Redmond giant which wants to expand its reach and is planning to build a strong developer ecosystem in India with the program will set up the core AI infrastructure and IoT Hub for the selected campuses\n"
     ]
    }
   ],
   "source": [
    "give_summary( \"msft.txt\", 1)"
   ]
  },
  {
   "cell_type": "code",
   "execution_count": null,
   "id": "db289d34",
   "metadata": {},
   "outputs": [],
   "source": []
  }
 ],
 "metadata": {
  "kernelspec": {
   "display_name": "Python 3 (ipykernel)",
   "language": "python",
   "name": "python3"
  },
  "language_info": {
   "codemirror_mode": {
    "name": "ipython",
    "version": 3
   },
   "file_extension": ".py",
   "mimetype": "text/x-python",
   "name": "python",
   "nbconvert_exporter": "python",
   "pygments_lexer": "ipython3",
   "version": "3.11.4"
  }
 },
 "nbformat": 4,
 "nbformat_minor": 5
}
