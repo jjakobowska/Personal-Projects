{
 "cells": [
  {
   "cell_type": "code",
   "execution_count": null,
   "id": "0ff1106c",
   "metadata": {},
   "outputs": [],
   "source": [
    "'''\n",
    "extractive sumarization using unsupervised learning \n",
    "i use cosine similarity because of chosen approach (sentences as vectors)\n",
    "\n",
    "'''"
   ]
  },
  {
   "cell_type": "code",
   "execution_count": null,
   "id": "d54f342d",
   "metadata": {},
   "outputs": [],
   "source": [
    "import nltk\n",
    "nltk.download('stopwords')\n",
    "from nltk.corpus import stopwords\n",
    "from nltk.cluster.util import cosine_distance\n",
    "import numpy as np\n",
    "import networkx as nx"
   ]
  },
  {
   "cell_type": "code",
   "execution_count": null,
   "id": "36e74404",
   "metadata": {},
   "outputs": [],
   "source": [
    "def get_article(file_name):\n",
    "    articles = open(file_name, \"r\")\n",
    "    articles_data = article.readlines()\n",
    "    article = articles_data[0].split(\". \")\n",
    "    sentences = []\n",
    "    \n",
    "    for sentence in article:\n",
    "        sentences.append(sentence.replace(\"[^a-aA-Z]\", \" \").split(\" \"))\n",
    "    sentences.pop()\n",
    "    \n",
    "    return sentences \n",
    "    "
   ]
  },
  {
   "cell_type": "code",
   "execution_count": null,
   "id": "786e2015",
   "metadata": {},
   "outputs": [],
   "source": [
    "def simmilar(sentence_1, sentence_2, stopwords=None):\n",
    "    if stopwords is None:\n",
    "        stopwords = []\n",
    "        \n",
    "    sentence_1 = [w.lower() for w in sentence_1]\n",
    "    sentence_2 = [w.lower() for w in sentence_2]\n",
    "    \n",
    "    everything = list(set(sentence_1 + sentence_2))\n",
    "    \n",
    "    #first sentence vector \n",
    "    \n",
    "    for w in sentence_1:\n",
    "        if w in stopwords:\n",
    "            continue \n",
    "        vector_1[everything.index(w)] += 1 \n",
    "    \n",
    "    \n",
    "    #second sentence vector \n",
    "    for w in sentence_2:\n",
    "        if w in stopwords:\n",
    "            continue \n",
    "        vector_2[everything.index(w)] += 1\n",
    "        \n",
    "    return 1 - cosine_distance(vector_1, vector_2)"
   ]
  },
  {
   "cell_type": "code",
   "execution_count": null,
   "id": "2f2b8032",
   "metadata": {},
   "outputs": [],
   "source": [
    "def make_simmilar_matrix(sentences, stop_words):\n",
    "    similar_matrix = np.zeros((len(sentences), len(sentences)))\n",
    "    \n",
    "    for idx1 in range(len(sentences)):\n",
    "        for idx2 in range(len(sentences)):\n",
    "            if idx1 == idx2:\n",
    "                continue \n",
    "            similar_matrix[idx1][idx2] = similar(sentences[idx1],sentences[idx2])\n",
    "    return similar_matrix"
   ]
  },
  {
   "cell_type": "code",
   "execution_count": null,
   "id": "fbc76445",
   "metadata": {},
   "outputs": [],
   "source": [
    "def give_summary(file_name, top_n=5):\n",
    "    stop_words = stopwords.words('english')\n",
    "    summarize_txt = []\n",
    "    \n",
    "    sentences = get_article(file_name)\n",
    "    sentence_simmilarity_matrix = make_simmilar_matrix(sentences, stop_words)\n",
    "    \n",
    "    sentence_simmilarity_graph = nx.from_numpy_array(sentence_simmilarity_matrix)\n",
    "    scores = nx.pagerank(sentence_simmilarity_graph)\n",
    "    \n",
    "    ranked_sentence = sorted(((scores[i], s) for i,s in enumerate(sentences)), reverse=True)\n",
    "    print(\"indexes of top ranked_sentences order are \", ranked_sentences)\n",
    "    \n",
    "    \n",
    "    \n",
    "    for i in range(top_n):\n",
    "        summarize_txt.append(\" \".join(ranked_sentence[i][1]))\n",
    "        \n",
    "        print(\"summarize text; \", summarize_txt)\n",
    "    \n",
    "    \n",
    "    \n",
    "    "
   ]
  },
  {
   "cell_type": "code",
   "execution_count": null,
   "id": "fc7915da",
   "metadata": {},
   "outputs": [],
   "source": [
    "give_summary( \"msft.txt\", 2)"
   ]
  },
  {
   "cell_type": "code",
   "execution_count": null,
   "id": "8f2e2b6c",
   "metadata": {},
   "outputs": [],
   "source": []
  }
 ],
 "metadata": {
  "kernelspec": {
   "display_name": "Python 3 (ipykernel)",
   "language": "python",
   "name": "python3"
  },
  "language_info": {
   "codemirror_mode": {
    "name": "ipython",
    "version": 3
   },
   "file_extension": ".py",
   "mimetype": "text/x-python",
   "name": "python",
   "nbconvert_exporter": "python",
   "pygments_lexer": "ipython3",
   "version": "3.11.4"
  }
 },
 "nbformat": 4,
 "nbformat_minor": 5
}
