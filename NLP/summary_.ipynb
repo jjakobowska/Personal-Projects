{
 "cells": [
  {
   "cell_type": "code",
   "execution_count": null,
   "id": "5ca37da5",
   "metadata": {},
   "outputs": [],
   "source": [
    "'''\n",
    "extractive sumarization using unsupervised learning \n",
    "i use cosine similarity because of chosen approach (sentences as vectors)\n",
    "cosine similarity measures the angle between two vectors \n",
    "if the angle is 0 the sentences are similar \n",
    "\n",
    "Input article → split into sentences → remove stop words → build a similarity matrix → \n",
    "generate rank based on matrix → pick top N sentences for summary.\n",
    "\n",
    "'''"
   ]
  },
  {
   "cell_type": "code",
   "execution_count": 1,
   "id": "59e7ea03",
   "metadata": {},
   "outputs": [
    {
     "name": "stderr",
     "output_type": "stream",
     "text": [
      "[nltk_data] Downloading package stopwords to\n",
      "[nltk_data]     /Users/jolajakobowska/nltk_data...\n",
      "[nltk_data]   Package stopwords is already up-to-date!\n"
     ]
    }
   ],
   "source": [
    "import nltk\n",
    "nltk.download('stopwords')\n",
    "from nltk.corpus import stopwords\n",
    "from nltk.cluster.util import cosine_distance\n",
    "import numpy as np\n",
    "import networkx as nx"
   ]
  },
  {
   "cell_type": "code",
   "execution_count": 2,
   "id": "eb8ad2dd",
   "metadata": {},
   "outputs": [],
   "source": [
    "def prepare_article(file_name):\n",
    "    file = open(file_name, \"r\")\n",
    "    file_data = file.readlines() # full text of the article - \n",
    "    article = file_data[0].split(\". \")\n",
    "    sentences = []\n",
    "    \n",
    "    for sentence in article:\n",
    "        sentences.append(sentence.replace(\"[^a-zA-Z]\", \" \").split(\" \"))\n",
    "        \n",
    "    sentences.pop()\n",
    "    print(\"Given text: \\n\", file_data, \"\\n\")\n",
    "    return sentences \n",
    "    "
   ]
  },
  {
   "cell_type": "code",
   "execution_count": 3,
   "id": "c5e0b092",
   "metadata": {},
   "outputs": [],
   "source": [
    "#creates vectors from sentences and returns cosine distances extracted from 1 to later get the similarity \n",
    "def vectors_from_sentences(sentence_1, sentence_2, stopwords=None):\n",
    "    if stopwords is None:\n",
    "        stopwords = []\n",
    "        \n",
    "    sentence_1 = [w.lower() for w in sentence_1] #w - word\n",
    "    sentence_2 = [w.lower() for w in sentence_2]\n",
    "    \n",
    "    everything = list(set(sentence_1 + sentence_2))\n",
    "    \n",
    "    vector_1 = [0] *len(everything)\n",
    "    vector_2 = [0] *len(everything)\n",
    "    \n",
    "    #first sentence \n",
    "    for w in sentence_1:\n",
    "        if w in stopwords:\n",
    "            continue \n",
    "        vector_1[everything.index(w)] += 1 \n",
    "  \n",
    "    #second sentence\n",
    "    for w in sentence_2:\n",
    "        if w in stopwords:\n",
    "            continue \n",
    "        vector_2[everything.index(w)] += 1\n",
    "  \n",
    "    return 1 - cosine_distance(vector_1, vector_2)"
   ]
  },
  {
   "cell_type": "code",
   "execution_count": 4,
   "id": "6aa7a588",
   "metadata": {},
   "outputs": [],
   "source": [
    "#create a matrix based on cosine distance\n",
    "def do_matrix_of_similarity(sentences, stop_words):\n",
    "    similarity_matrix = np.zeros((len(sentences), len(sentences))) #get an array of zeros (empty) to compare two sentences\n",
    "    \n",
    "    for idx1 in range(len(sentences)):\n",
    "        for idx2 in range(len(sentences)):\n",
    "            if idx1 == idx2:\n",
    "                continue \n",
    "            similarity_matrix[idx1][idx2] = vectors_from_sentences(sentences[idx1],sentences[idx2])\n",
    "            \n",
    "    return similarity_matrix"
   ]
  },
  {
   "cell_type": "code",
   "execution_count": 5,
   "id": "6b78b794",
   "metadata": {},
   "outputs": [],
   "source": [
    "def give_summary(file_name, top_n=5):\n",
    "    stop_words = stopwords.words('english')\n",
    "    summarize_text = []\n",
    "    \n",
    "    #prepare the data\n",
    "    sentences = prepare_article(file_name) \n",
    "    \n",
    "    #make the matrix of vectors and return cosine distance\n",
    "    sentence_simmilarity_matrix = do_matrix_of_similarity(sentences, stop_words) \n",
    "    \n",
    "    sentence_simmilarity_graph = nx.from_numpy_array(sentence_simmilarity_matrix)\n",
    "    scores = nx.pagerank(sentence_simmilarity_graph)\n",
    "    \n",
    "    ranked_sentence = sorted(((scores[i], s) for i,s in enumerate(sentences)), reverse=True)\n",
    "    \n",
    "    for i in range(top_n):\n",
    "        summarize_text.append(\" \".join(ranked_sentence[i][1]))\n",
    "        \n",
    "    ready_summary = \". \".join(summarize_text)\n",
    "    print(\"Summarry: \\n\", ready_summary)\n"
   ]
  },
  {
   "cell_type": "code",
   "execution_count": 6,
   "id": "f73dbf6d",
   "metadata": {},
   "outputs": [
    {
     "name": "stdout",
     "output_type": "stream",
     "text": [
      "Given text: \n",
      " ['Financial markets come in a variety of flavors to accommodate the wide array of financial instruments or securities that have been found beneficial to both borrowers and lenders over the years. Primary markets are where newly created (issued) instruments are sold for the first time. Most securities are negotiable. In other words, they can be sold to other investors at will in what are called secondary markets. Stock exchanges, or secondary markets for ownership stakes in corporations called stocks (aka shares or equities), are the most well-known type, but there are also secondary markets for debt, including bonds (evidences of sums owed, IOUs), mortgages, and derivatives and other instruments. Not all secondary markets are organized as exchanges, centralized locations, like the New York Stock Exchange or the Chicago Board of Trade, for the sale of securities. Some are over-the-counter (OTC) markets run by dealers connected via various telecom devices (first by post and semaphore [flag signals], then by telegraph, then telephone, and now computer). Completely electronic markets have gained much ground in recent years and now dominate most trading.Money markets are used to trade instruments with less than a year to maturity (repayment of principal). Examples include the markets for T-bills (Treasury bills or short-term government bonds), commercial paper (short-term corporate bonds), banker’s acceptances (guaranteed bank funds, like a cashier’s check), negotiable certificates of deposit (large-denomination negotiable CDs, called NCDs), Fed funds (overnight loans of reserves between banks), call loans (overnight loans on the collateral of stock), repurchase agreements (short-term loans on the collateral of T-bills), and foreign exchange (currencies of other countries).Securities with a year or more to maturity trade in capital markets. Some capital market instruments, called perpetuities, never mature or fall due. Equities (ownership claims on the assets and income of corporations) and perpetual interest-only loans are prime examples. (Some interest-only loans mature in fifteen or thirty years with a so-called balloon payment, in which the principal falls due all at once at the end of the loan.) Most capital market instruments, including mortgages (loans on real estate collateral), corporate bonds, government bonds, and commercial and consumer loans, have fixed maturities ranging from a year to several hundred years, though most capital market instruments issued today have maturities of thirty years or less. Figure 2.4 briefly summarizes the differences between various types of financial markets.Derivatives contracts trade in a third type of financial market. Derivatives allow investors to spread and share a wide variety of risks, from changes in interest rates and stock market indices[2] to undesirable weather conditions[3] (too sunny for farmers, too rainy for amusement parks, too cold for orange growers, too hot for ski resorts). Financial derivatives are in some ways even more complicated than the derivatives in calculus, so they are discussed in detail in a separate chapter. Some call financial markets “direct finance,” though most admit the term is a misnomer because the functioning of the markets is usually aided by one or more market facilitators, including brokers, dealers, brokerages, and investment banks. Brokers facilitate secondary markets by linking sellers to buyers of securities in exchange for a fee or a commission, a percentage of the sale price. Dealers “make a market” by continuously buying and selling securities, profiting from the spread, or the difference between the sale and purchase prices. (For example, a dealer might buy a certain type of bond at, say, $99 and resell it at $99.125, ten thousand times a day.) Brokerages engage in both brokering and dealing and usually also provide their clients with advice and information. Investment banks facilitate primary markets by underwriting (buying for resale to investors) stock and bond offerings, including initial public offerings (IPOs) of stocks, and by arranging direct placement of bonds. Sometimes investment banks act merely as brokers, introducing securities issuers to investors, usually institutional investors like the financial intermediaries discussed below. Sometimes they act as dealers, buying the securities themselves for later (hopefully soon!) resale to investors. And sometimes they provide advice, usually regarding merger and acquisition. Investment banks took a beating during the financial crisis that began in 2007. Most of the major ones went bankrupt or merged with large commercial banks. Early reports of the death of investment banking turned out to be premature, but the sector is depressed at present; two large ones and numerous small ones, niche players called boutiques, remain.[4]'] \n",
      "\n",
      "Summarry: \n",
      " Financial markets come in a variety of flavors to accommodate the wide array of financial instruments or securities that have been found beneficial to both borrowers and lenders over the years. Some call financial markets “direct finance,” though most admit the term is a misnomer because the functioning of the markets is usually aided by one or more market facilitators, including brokers, dealers, brokerages, and investment banks\n"
     ]
    }
   ],
   "source": [
    "give_summary( \"test_text.txt\", 2)"
   ]
  },
  {
   "cell_type": "code",
   "execution_count": 7,
   "id": "db289d34",
   "metadata": {},
   "outputs": [
    {
     "name": "stdout",
     "output_type": "stream",
     "text": [
      "Given text: \n",
      " [\"This article, delves into the topic of Support Vector Machines(SVM) in Machine Learning, covering the different types of SVM algorithms and how they function. SVM is a widely used supervised machine learning algorithm that can tackle classification and regression problems. To understand how SVM works, we first need to comprehend what supervised means — it involves providing label data as input to the algorithm. Classification problems, where the target has a finite number of possibilities, are tackled with SVM. For instance, if you want to determine whether the mail is a scam, there are only two possibilities. On the other hand, regression problems deal with continuous target labels. For example, if you need to predict an employee's salary increase based on their performance, the salary increase would be continuous. SVM algorithms are generally utilized for classification challenges in machine learning. The objective of the SVM algorithm is to create a decision boundary or line that can effectively segregate a given data set into different classes. Once the decision boundary is established, new examples can be classified into the appropriate classes with relative ease. In the SVM algorithm, this decision boundary is known as a hyperplane. The challenge then becomes drawing this hyperplane with precision.Hyperplanes Suppose we are given a data set with two classes drawn in blue and green colors, respectively. The data set is linearly separable, meaning we can draw a straight line to separate the two classes. However, we need to determine which line is the best fit or the optimal boundary. In the given diagram, two lines are drawn in red and green colors, respectively. In this case, we need to draw all possible lines to determine the one with the best accuracy. This line is called the Hyperplane, whose dimension depends on the features present in the data set. If there are only two features, we can draw a straight line, but if there are more than two features, we need to draw a plane, which will be the two-dimensional hyperplane in this case. To ensure the maximum margin, drawing the hyperplane is crucial. Later on, I will delve into the specifics of how to achieve this maximum margin. When drawing the hyperplane we need to consider finding the nearest points on both sides of the hyperplane. Those points we called Support Vectors. Support vectors are data points that are closer to the hyperplane and influence the position and orientation of the hyperplane. Using these support vectors, we maximize the margin(we will learn this thing later) of the classifier. Deleting the support vectors will change the position of the hyperplane. These are the points that help us build our SVM. In this graph, A and B points are nearest for this P hyperplane. So A and B are referred to as support vectors to the P hyperplane in this case. And C and B are the other nearest points to the Q hyperplane. What are the different types of SVM? Linear SVM — Linear SVM is used for linearly separable data, which means if a dataset can be classified into two classes by using a single straight line, then such data is termed as linearly separable data, and classifier is used called as Linear SVM classifier. Suppose we have a dataset that has two classes(stars and dots) and the dataset has two features x and y. we can separate this dataset using B and D straight lines. When we draw multiple straight lines to separate the data which one has to be considered as the hyperplane. To understand we can use this example. B and D hyperplane and find the maximum margin. Assume D as the one hyperplane and these p and q are the support vectors. So draw a parallel line to a hyperplane with the support of support vectors. And the M2 distance we need to calculate. This distance we called Margin. Similarly, we need to do this to B hyperplane also. And calculate the margin M1. When comparing the M1 and M2, the M2 margin is smaller when compared to the M1. So using this we can say B is the best fit line(hyperplane) which divides the data into two classes. We should do this calculation for all possible hyperplanes and the one who gives the maximum margin will be the hyperplane. Non-linear SVM — Non-linear SVM is used for non-linearly separated data, which means if a dataset cannot be classified by using a straight line, then such data is termed as Non-linear data, and the classifier is called a Non-linear SVM classifier.\"] \n",
      "\n",
      "Summarry: \n",
      " Support vectors are data points that are closer to the hyperplane and influence the position and orientation of the hyperplane\n"
     ]
    }
   ],
   "source": [
    "give_summary( \"test_text2.txt\", 1)"
   ]
  }
 ],
 "metadata": {
  "kernelspec": {
   "display_name": "Python 3 (ipykernel)",
   "language": "python",
   "name": "python3"
  },
  "language_info": {
   "codemirror_mode": {
    "name": "ipython",
    "version": 3
   },
   "file_extension": ".py",
   "mimetype": "text/x-python",
   "name": "python",
   "nbconvert_exporter": "python",
   "pygments_lexer": "ipython3",
   "version": "3.11.4"
  }
 },
 "nbformat": 4,
 "nbformat_minor": 5
}
